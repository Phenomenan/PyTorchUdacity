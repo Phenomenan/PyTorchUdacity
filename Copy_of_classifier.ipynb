{
  "nbformat": 4,
  "nbformat_minor": 0,
  "metadata": {
    "colab": {
      "name": "Copy of classifier.ipynb",
      "version": "0.3.2",
      "provenance": [],
      "collapsed_sections": [],
      "include_colab_link": true
    },
    "kernelspec": {
      "name": "python3",
      "display_name": "Python 3"
    },
    "accelerator": "GPU"
  },
  "cells": [
    {
      "cell_type": "markdown",
      "metadata": {
        "id": "view-in-github",
        "colab_type": "text"
      },
      "source": [
        "<a href=\"https://colab.research.google.com/github/Phenomenan/PyTorchUdacity/blob/master/Copy_of_classifier.ipynb\" target=\"_parent\"><img src=\"https://colab.research.google.com/assets/colab-badge.svg\" alt=\"Open In Colab\"/></a>"
      ]
    },
    {
      "metadata": {
        "id": "gi9XC5-jl4H9",
        "colab_type": "code",
        "colab": {}
      },
      "cell_type": "code",
      "source": [
        "# http://pytorch.org/\n",
        "from os.path import exists\n",
        "from wheel.pep425tags import get_abbr_impl, get_impl_ver, get_abi_tag\n",
        "platform = '{}{}-{}'.format(get_abbr_impl(), get_impl_ver(), get_abi_tag())\n",
        "cuda_output = !ldconfig -p|grep cudart.so|sed -e 's/.*\\.\\([0-9]*\\)\\.\\([0-9]*\\)$/cu\\1\\2/'\n",
        "accelerator = cuda_output[0] if exists('/dev/nvidia0') else 'cpu'\n",
        "\n",
        "!pip install -q http://download.pytorch.org/whl/{accelerator}/torch-0.4.1-{platform}-linux_x86_64.whl torchvision\n",
        "import torch"
      ],
      "execution_count": 0,
      "outputs": []
    },
    {
      "metadata": {
        "id": "yqaFPlmPmA-r",
        "colab_type": "code",
        "colab": {}
      },
      "cell_type": "code",
      "source": [
        "!wget https://s3.amazonaws.com/content.udacity-data.com/courses/nd188/flower_data.zip"
      ],
      "execution_count": 0,
      "outputs": []
    },
    {
      "metadata": {
        "id": "k0l2fQ-imBBP",
        "colab_type": "code",
        "colab": {}
      },
      "cell_type": "code",
      "source": [
        "!unzip flower_data.zip"
      ],
      "execution_count": 0,
      "outputs": []
    },
    {
      "metadata": {
        "id": "gPnonTtrpulV",
        "colab_type": "code",
        "outputId": "9a76dc68-eea4-4fa6-955e-d22528637081",
        "colab": {
          "base_uri": "https://localhost:8080/",
          "height": 156
        }
      },
      "cell_type": "code",
      "source": [
        "# we need pillow version of 5.3.0\n",
        "# we will uninstall the older version first\n",
        "!pip uninstall -y Pillow\n",
        "# install the new one\n",
        "!pip install Pillow==5.3.0\n",
        "# import the new one\n",
        "import PIL\n",
        "print(PIL.PILLOW_VERSION)\n",
        "# this should print 5.3.0. If it doesn't, then restart your runtime:\n",
        "# Menu > Runtime > Restart Runtime"
      ],
      "execution_count": 10,
      "outputs": [
        {
          "output_type": "stream",
          "text": [
            "Uninstalling Pillow-5.3.0:\n",
            "  Successfully uninstalled Pillow-5.3.0\n",
            "Collecting Pillow==5.3.0\n",
            "  Using cached https://files.pythonhosted.org/packages/62/94/5430ebaa83f91cc7a9f687ff5238e26164a779cca2ef9903232268b0a318/Pillow-5.3.0-cp36-cp36m-manylinux1_x86_64.whl\n",
            "Installing collected packages: Pillow\n",
            "Successfully installed Pillow-5.3.0\n",
            "4.0.0\n"
          ],
          "name": "stdout"
        }
      ]
    },
    {
      "metadata": {
        "id": "GwCsAuj3puxn",
        "colab_type": "code",
        "colab": {
          "base_uri": "https://localhost:8080/",
          "height": 224
        },
        "outputId": "140a43e7-6749-475d-a343-ca11a0017c42"
      },
      "cell_type": "code",
      "source": [
        "!wget https://github.com/udacity/pytorch_challenge/blob/master/cat_to_name.json "
      ],
      "execution_count": 11,
      "outputs": [
        {
          "output_type": "stream",
          "text": [
            "--2018-12-21 11:16:37--  https://github.com/udacity/pytorch_challenge/blob/master/cat_to_name.json\n",
            "Resolving github.com (github.com)... 192.30.253.113, 192.30.253.112\n",
            "Connecting to github.com (github.com)|192.30.253.113|:443... connected.\n",
            "HTTP request sent, awaiting response... 200 OK\n",
            "Length: unspecified [text/html]\n",
            "Saving to: ‘cat_to_name.json’\n",
            "\n",
            "cat_to_name.json        [  <=>               ]  59.19K   164KB/s    in 0.4s    \n",
            "\n",
            "2018-12-21 11:16:39 (164 KB/s) - ‘cat_to_name.json’ saved [60612]\n",
            "\n"
          ],
          "name": "stdout"
        }
      ]
    },
    {
      "metadata": {
        "id": "HZ-jIkb-nccN",
        "colab_type": "code",
        "colab": {}
      },
      "cell_type": "code",
      "source": [
        "import torch.nn as nn\n",
        "import torch.nn.functional as F\n",
        "import numpy as np\n",
        "from torchvision import datasets\n",
        "import torchvision.transforms as transforms\n",
        "import torch , torchvision\n",
        "from torch.utils.data.sampler import SubsetRandomSampler"
      ],
      "execution_count": 0,
      "outputs": []
    },
    {
      "metadata": {
        "id": "cv78nUP3bLN1",
        "colab_type": "code",
        "colab": {}
      },
      "cell_type": "code",
      "source": [
        "\n",
        "data_dir = 'flower_data'\n",
        "train_dir = data_dir + '/train'\n",
        "valid_dir = data_dir + '/valid'\n",
        "\n",
        "# Defining the Transformations\n",
        "train_transforms = transforms.Compose([\n",
        "    transforms.RandomRotation(30),\n",
        "    transforms.RandomHorizontalFlip(),\n",
        "    transforms.Resize((224,224)),\n",
        "    transforms.ToTensor(),\n",
        "    transforms.Normalize([0.485, 0.456, 0.406],[0.229, 0.224, 0.225])\n",
        "    ])\n",
        "\n",
        "valid_transforms = transforms.Compose([\n",
        "    transforms.Resize((224,224)),\n",
        "    transforms.ToTensor(),\n",
        "    transforms.Normalize([0.485, 0.456, 0.406],[0.229, 0.224, 0.225])\n",
        "    ])\n",
        "\n",
        "# Getting the ImageFolder of the Two Folders\n",
        "train_images = torchvision.datasets.ImageFolder(train_dir,transform = train_transforms)\n",
        "valid_images = torchvision.datasets.ImageFolder(valid_dir,transform = valid_transforms)\n",
        "\n",
        "valid_size = 0.2\n",
        "num_workers = 0\n",
        "batch_size = 32\n",
        "\n",
        "# obtain training indices that will be used for validation\n",
        "num_train = len(train_images)\n",
        "indices = list(range(num_train))\n",
        "np.random.shuffle(indices)\n",
        "split = int(np.floor(valid_size * num_train))\n",
        "train_idx, valid_idx = indices[split:], indices[:split]\n",
        "\n",
        "# define samplers for obtaining training and validation batches\n",
        "train_sampler = SubsetRandomSampler(train_idx)\n",
        "valid_sampler = SubsetRandomSampler(valid_idx)\n",
        "\n",
        "# prepare data loaders (combine dataset and sampler)\n",
        "train_loader = torch.utils.data.DataLoader(train_images, batch_size=batch_size,\n",
        "    sampler=train_sampler, num_workers=num_workers)\n",
        "valid_loader = torch.utils.data.DataLoader(train_images, batch_size=batch_size, \n",
        "    sampler=valid_sampler, num_workers=num_workers)\n",
        "test_loader = torch.utils.data.DataLoader(valid_images, batch_size=batch_size, \n",
        "    num_workers=num_workers)"
      ],
      "execution_count": 0,
      "outputs": []
    },
    {
      "metadata": {
        "id": "tyEK9P4gzeHg",
        "colab_type": "code",
        "colab": {}
      },
      "cell_type": "code",
      "source": [
        "class FlowerCNN(nn.Module):\n",
        "    \n",
        "    def __init__(self):\n",
        "        super(FlowerCNN, self).__init__()\n",
        "        # Convolutions layer\n",
        "        self.conv1 = nn.Conv2d(3,16,3,padding=1)\n",
        "        self.conv2 = nn.Conv2d(16,32,3,padding=1)\n",
        "        self.conv3 = nn.Conv2d(32,64,3,padding=1)\n",
        "        # maxpooling layer\n",
        "        self.pool = nn.MaxPool2d(2, 2)\n",
        "        # linear layer (64 * 4 * 4 -> 500)\n",
        "        self.fc1 = nn.Linear(64 * 28 * 28, 512)\n",
        "        # linear layer (500 -> 200)\n",
        "        self.fc2 = nn.Linear(512, 256)\n",
        "        # linear layer (200 -> 102)\n",
        "        self.fc3 = nn.Linear(256, 102)\n",
        "        # dropout layer (p=0.25)\n",
        "        self.dropout = nn.Dropout(0.25)\n",
        "        \n",
        "    def forward(self, x):\n",
        "    \n",
        "        x = self.pool(F.relu(self.conv1(x)))\n",
        "        x = self.pool(F.relu(self.conv2(x)))\n",
        "        x = self.pool(F.relu(self.conv3(x)))\n",
        "    \n",
        "        # flatten image input\n",
        "        x = x.view(-1, 64 * 28 * 28)\n",
        "        # add dropout layer\n",
        "        x = self.dropout(x)\n",
        "        # add 1st hidden layer, with relu activation function\n",
        "        x = F.relu(self.fc1(x))\n",
        "    \n",
        "        # add dropout layer\n",
        "        x = self.dropout(x)\n",
        "        # add 2nd hidden layer, with relu activation function\n",
        "        x = F.relu(self.fc2(x))\n",
        "    \n",
        "        # add dropout layer\n",
        "        x = self.dropout(x)\n",
        "        # add 2nd hidden layer, with relu activation function\n",
        "        x = self.fc3(x)\n",
        "    \n",
        "        return x"
      ],
      "execution_count": 0,
      "outputs": []
    },
    {
      "metadata": {
        "id": "5BwqohYPzgTe",
        "colab_type": "code",
        "outputId": "5d84c499-d744-4a7a-c8a2-9be6c8333765",
        "colab": {
          "base_uri": "https://localhost:8080/",
          "height": 187
        }
      },
      "cell_type": "code",
      "source": [
        "# create a complete CNN\n",
        "model = FlowerCNN()\n",
        "print(model)"
      ],
      "execution_count": 15,
      "outputs": [
        {
          "output_type": "stream",
          "text": [
            "FlowerCNN(\n",
            "  (conv1): Conv2d(3, 16, kernel_size=(3, 3), stride=(1, 1), padding=(1, 1))\n",
            "  (conv2): Conv2d(16, 32, kernel_size=(3, 3), stride=(1, 1), padding=(1, 1))\n",
            "  (conv3): Conv2d(32, 64, kernel_size=(3, 3), stride=(1, 1), padding=(1, 1))\n",
            "  (pool): MaxPool2d(kernel_size=2, stride=2, padding=0, dilation=1, ceil_mode=False)\n",
            "  (fc1): Linear(in_features=50176, out_features=512, bias=True)\n",
            "  (fc2): Linear(in_features=512, out_features=256, bias=True)\n",
            "  (fc3): Linear(in_features=256, out_features=102, bias=True)\n",
            "  (dropout): Dropout(p=0.25)\n",
            ")\n"
          ],
          "name": "stdout"
        }
      ]
    },
    {
      "metadata": {
        "id": "pfF-KVnVzlU1",
        "colab_type": "code",
        "colab": {}
      },
      "cell_type": "code",
      "source": [
        "# Define The Loss Function and the optimizer\n",
        "import torch.optim as optim\n",
        "\n",
        "criterion = nn.CrossEntropyLoss()\n",
        "\n",
        "optimizer = optim.SGD(model.parameters(), lr=0.01)"
      ],
      "execution_count": 0,
      "outputs": []
    },
    {
      "metadata": {
        "id": "SB4r-hnAf2e8",
        "colab_type": "code",
        "colab": {
          "base_uri": "https://localhost:8080/",
          "height": 343
        },
        "outputId": "b7109d49-78c2-47a8-881f-0d5f85d8c0de"
      },
      "cell_type": "code",
      "source": [
        "!pip install Pillow==4.0.0\n",
        "!pip install PIL\n",
        "!pip install image"
      ],
      "execution_count": 19,
      "outputs": [
        {
          "output_type": "stream",
          "text": [
            "Collecting Pillow==4.0.0\n",
            "\u001b[?25l  Downloading https://files.pythonhosted.org/packages/37/e8/b3fbf87b0188d22246678f8cd61e23e31caa1769ebc06f1664e2e5fe8a17/Pillow-4.0.0-cp36-cp36m-manylinux1_x86_64.whl (5.6MB)\n",
            "\u001b[K    100% |████████████████████████████████| 5.6MB 7.7MB/s \n",
            "\u001b[?25hRequirement already satisfied: olefile in /usr/local/lib/python3.6/dist-packages (from Pillow==4.0.0) (0.46)\n",
            "\u001b[31mtorchvision 0.2.1 has requirement pillow>=4.1.1, but you'll have pillow 4.0.0 which is incompatible.\u001b[0m\n",
            "Installing collected packages: Pillow\n",
            "  Found existing installation: Pillow 5.3.0\n",
            "    Uninstalling Pillow-5.3.0:\n",
            "      Successfully uninstalled Pillow-5.3.0\n",
            "Successfully installed Pillow-4.0.0\n",
            "Collecting PIL\n",
            "\u001b[31m  Could not find a version that satisfies the requirement PIL (from versions: )\u001b[0m\n",
            "\u001b[31mNo matching distribution found for PIL\u001b[0m\n",
            "Requirement already satisfied: image in /usr/local/lib/python3.6/dist-packages (1.5.27)\n",
            "Requirement already satisfied: django in /usr/local/lib/python3.6/dist-packages (from image) (2.1.4)\n",
            "Requirement already satisfied: pillow in /usr/local/lib/python3.6/dist-packages (from image) (4.0.0)\n",
            "Requirement already satisfied: pytz in /usr/local/lib/python3.6/dist-packages (from django->image) (2018.7)\n",
            "Requirement already satisfied: olefile in /usr/local/lib/python3.6/dist-packages (from pillow->image) (0.46)\n"
          ],
          "name": "stdout"
        }
      ]
    },
    {
      "metadata": {
        "id": "IXEbK6zWzr7d",
        "colab_type": "code",
        "outputId": "42fbf78a-aa25-465d-acba-5e0baaf51cf3",
        "colab": {
          "base_uri": "https://localhost:8080/",
          "height": 952
        }
      },
      "cell_type": "code",
      "source": [
        "# Here we're going to train the CNN\n",
        "# number of epochs to train the model\n",
        "n_epochs = 30\n",
        "\n",
        "valid_loss_min = np.Inf # track change in validation loss\n",
        "\n",
        "for epoch in range(1, n_epochs+1):\n",
        "\n",
        "    # keep track of training and validation loss\n",
        "    train_loss = 0.0\n",
        "    valid_loss = 0.0\n",
        "    \n",
        "    ###################\n",
        "    # train the model #\n",
        "    ###################\n",
        "    model.train()\n",
        "    for data, target in train_loader:\n",
        "        # move tensors to GPU if CUDA is available\n",
        "        # clear the gradients of all optimized variables\n",
        "        optimizer.zero_grad()\n",
        "        # forward pass: compute predicted outputs by passing inputs to the model\n",
        "        output = model(data)\n",
        "        # calculate the batch loss\n",
        "        loss = criterion(output, target)\n",
        "        # backward pass: compute gradient of the loss with respect to model parameters\n",
        "        loss.backward()\n",
        "        # perform a single optimization step (parameter update)\n",
        "        optimizer.step()\n",
        "        # update training loss\n",
        "        train_loss += loss.item()*data.size(0)\n",
        "        \n",
        "    ######################    \n",
        "    # validate the model #\n",
        "    ######################\n",
        "    model.eval()\n",
        "    for data, target in valid_loader:\n",
        "        # forward pass: compute predicted outputs by passing inputs to the model\n",
        "        output = model(data)\n",
        "        # calculate the batch loss\n",
        "        loss = criterion(output, target)\n",
        "        # update average validation loss \n",
        "        valid_loss += loss.item()*data.size(0)\n",
        "    \n",
        "    # calculate average losses\n",
        "    train_loss = train_loss/len(train_loader.dataset)\n",
        "    valid_loss = valid_loss/len(valid_loader.dataset)\n",
        "        \n",
        "    # print training/validation statistics \n",
        "    print('Epoch: {} \\tTraining Loss: {:.6f} \\tValidation Loss: {:.6f}'.format(\n",
        "        epoch, train_loss, valid_loss))\n",
        "    \n",
        "    # save model if validation loss has decreased\n",
        "    if valid_loss <= valid_loss_min:\n",
        "        print('Validation loss decreased ({:.6f} --> {:.6f}).  Saving model ...'.format(\n",
        "        valid_loss_min,\n",
        "        valid_loss))\n",
        "        torch.save(model.state_dict(), 'model_flower.pt')\n",
        "        valid_loss_min = valid_loss"
      ],
      "execution_count": 20,
      "outputs": [
        {
          "output_type": "stream",
          "text": [
            "Epoch: 1 \tTraining Loss: 3.663623 \tValidation Loss: 0.903997\n",
            "Validation loss decreased (inf --> 0.903997).  Saving model ...\n",
            "Epoch: 2 \tTraining Loss: 3.605048 \tValidation Loss: 0.894767\n",
            "Validation loss decreased (0.903997 --> 0.894767).  Saving model ...\n",
            "Epoch: 3 \tTraining Loss: 3.515042 \tValidation Loss: 0.842996\n",
            "Validation loss decreased (0.894767 --> 0.842996).  Saving model ...\n",
            "Epoch: 4 \tTraining Loss: 3.326412 \tValidation Loss: 0.803535\n",
            "Validation loss decreased (0.842996 --> 0.803535).  Saving model ...\n",
            "Epoch: 5 \tTraining Loss: 3.143408 \tValidation Loss: 0.743415\n",
            "Validation loss decreased (0.803535 --> 0.743415).  Saving model ...\n",
            "Epoch: 6 \tTraining Loss: 2.963212 \tValidation Loss: 0.704953\n",
            "Validation loss decreased (0.743415 --> 0.704953).  Saving model ...\n",
            "Epoch: 7 \tTraining Loss: 2.806427 \tValidation Loss: 0.663264\n",
            "Validation loss decreased (0.704953 --> 0.663264).  Saving model ...\n",
            "Epoch: 8 \tTraining Loss: 2.668860 \tValidation Loss: 0.648073\n",
            "Validation loss decreased (0.663264 --> 0.648073).  Saving model ...\n",
            "Epoch: 9 \tTraining Loss: 2.564283 \tValidation Loss: 0.607791\n",
            "Validation loss decreased (0.648073 --> 0.607791).  Saving model ...\n",
            "Epoch: 10 \tTraining Loss: 2.459027 \tValidation Loss: 0.590742\n",
            "Validation loss decreased (0.607791 --> 0.590742).  Saving model ...\n",
            "Epoch: 11 \tTraining Loss: 2.362432 \tValidation Loss: 0.611578\n",
            "Epoch: 12 \tTraining Loss: 2.287277 \tValidation Loss: 0.547752\n",
            "Validation loss decreased (0.590742 --> 0.547752).  Saving model ...\n",
            "Epoch: 13 \tTraining Loss: 2.199904 \tValidation Loss: 0.543158\n",
            "Validation loss decreased (0.547752 --> 0.543158).  Saving model ...\n",
            "Epoch: 14 \tTraining Loss: 2.137112 \tValidation Loss: 0.549813\n",
            "Epoch: 15 \tTraining Loss: 2.083489 \tValidation Loss: 0.526539\n",
            "Validation loss decreased (0.543158 --> 0.526539).  Saving model ...\n",
            "Epoch: 16 \tTraining Loss: 2.013212 \tValidation Loss: 0.531206\n",
            "Epoch: 17 \tTraining Loss: 1.955439 \tValidation Loss: 0.525756\n",
            "Validation loss decreased (0.526539 --> 0.525756).  Saving model ...\n",
            "Epoch: 18 \tTraining Loss: 1.893325 \tValidation Loss: 0.499431\n",
            "Validation loss decreased (0.525756 --> 0.499431).  Saving model ...\n",
            "Epoch: 19 \tTraining Loss: 1.883358 \tValidation Loss: 0.463655\n",
            "Validation loss decreased (0.499431 --> 0.463655).  Saving model ...\n",
            "Epoch: 20 \tTraining Loss: 1.810127 \tValidation Loss: 0.461419\n",
            "Validation loss decreased (0.463655 --> 0.461419).  Saving model ...\n",
            "Epoch: 21 \tTraining Loss: 1.758080 \tValidation Loss: 0.454078\n",
            "Validation loss decreased (0.461419 --> 0.454078).  Saving model ...\n",
            "Epoch: 22 \tTraining Loss: 1.704149 \tValidation Loss: 0.451304\n",
            "Validation loss decreased (0.454078 --> 0.451304).  Saving model ...\n",
            "Epoch: 23 \tTraining Loss: 1.668259 \tValidation Loss: 0.450178\n",
            "Validation loss decreased (0.451304 --> 0.450178).  Saving model ...\n",
            "Epoch: 24 \tTraining Loss: 1.611272 \tValidation Loss: 0.431531\n",
            "Validation loss decreased (0.450178 --> 0.431531).  Saving model ...\n",
            "Epoch: 25 \tTraining Loss: 1.562945 \tValidation Loss: 0.430754\n",
            "Validation loss decreased (0.431531 --> 0.430754).  Saving model ...\n",
            "Epoch: 26 \tTraining Loss: 1.535444 \tValidation Loss: 0.426583\n",
            "Validation loss decreased (0.430754 --> 0.426583).  Saving model ...\n",
            "Epoch: 27 \tTraining Loss: 1.485149 \tValidation Loss: 0.418889\n",
            "Validation loss decreased (0.426583 --> 0.418889).  Saving model ...\n",
            "Epoch: 28 \tTraining Loss: 1.438148 \tValidation Loss: 0.414719\n",
            "Validation loss decreased (0.418889 --> 0.414719).  Saving model ...\n",
            "Epoch: 29 \tTraining Loss: 1.400199 \tValidation Loss: 0.424685\n",
            "Epoch: 30 \tTraining Loss: 1.358651 \tValidation Loss: 0.434267\n"
          ],
          "name": "stdout"
        }
      ]
    }
  ]
}